{
 "cells": [
  {
   "cell_type": "code",
   "execution_count": 241,
   "metadata": {},
   "outputs": [],
   "source": [
    "import pandas as pd"
   ]
  },
  {
   "cell_type": "code",
   "execution_count": 242,
   "metadata": {},
   "outputs": [],
   "source": [
    "def get_neigh_List(in_df):\n",
    "\n",
    "    n_list=in_df[0] \n",
    "    print(in_df[0])\n",
    "    \n",
    "    if len(in_df)>1:\n",
    "        for neigh in in_df['Neighbourhood']:\n",
    "            n_list = n_list + ', ' + neigh.strip()\n",
    "    \n",
    "    result_string=str(n_list).strip('[]')\n",
    "    \n",
    "    return result_string\n"
   ]
  },
  {
   "cell_type": "code",
   "execution_count": 325,
   "metadata": {},
   "outputs": [
    {
     "data": {
      "text/html": [
       "<div>\n",
       "<style scoped>\n",
       "    .dataframe tbody tr th:only-of-type {\n",
       "        vertical-align: middle;\n",
       "    }\n",
       "\n",
       "    .dataframe tbody tr th {\n",
       "        vertical-align: top;\n",
       "    }\n",
       "\n",
       "    .dataframe thead th {\n",
       "        text-align: right;\n",
       "    }\n",
       "</style>\n",
       "<table border=\"1\" class=\"dataframe\">\n",
       "  <thead>\n",
       "    <tr style=\"text-align: right;\">\n",
       "      <th></th>\n",
       "      <th>0</th>\n",
       "      <th>1</th>\n",
       "      <th>2</th>\n",
       "    </tr>\n",
       "  </thead>\n",
       "  <tbody>\n",
       "    <tr>\n",
       "      <th>0</th>\n",
       "      <td>Parkwoods</td>\n",
       "      <td>Postal Code</td>\n",
       "      <td>Parkwoods</td>\n",
       "    </tr>\n",
       "  </tbody>\n",
       "</table>\n",
       "</div>"
      ],
      "text/plain": [
       "           0            1          2\n",
       "0  Parkwoods  Postal Code  Parkwoods"
      ]
     },
     "execution_count": 325,
     "metadata": {},
     "output_type": "execute_result"
    }
   ],
   "source": [
    "df_tpc=pd.read_csv('Toronto_Neighborhoods_Cleaned.csv').drop('Unnamed: 0', axis=1)\n",
    "\n",
    "df_pc=pd.DataFrame(df_tpc['Postal Code'].unique(), columns=['Postal Code'])\n",
    "\n",
    "df_n=[]\n",
    "df_b=[]\n",
    "\n",
    "for n in df_pc['Postal Code']:\n",
    "\n",
    "    temp = df_tpc[df_tpc['Postal Code'] == n]\n",
    "\n",
    "    str_n = ''\n",
    "    str_b = ''\n",
    "    counter = 1\n",
    "\n",
    "    for n in temp['Neighbourhood']:\n",
    "        if counter == 1:\n",
    "            str_n = n.strip()\n",
    "            str_b = str(temp['Borough'][temp['Neighbourhood'].index])\n",
    "            counter += 1        \n",
    "        else:\n",
    "            str_n = str_n + ', ' + n.strip()\n",
    "            counter += 1\n",
    "\n",
    "    df_n.append(str_n)\n",
    "    df_b.append(str_n)\n",
    "\n",
    "df = pd.DataFrame(zip(df_, df_pc, df_n))\n",
    "df"
   ]
  },
  {
   "cell_type": "code",
   "execution_count": null,
   "metadata": {},
   "outputs": [],
   "source": []
  },
  {
   "cell_type": "code",
   "execution_count": null,
   "metadata": {},
   "outputs": [],
   "source": []
  }
 ],
 "metadata": {
  "kernelspec": {
   "display_name": "Python (CapstoneENV)",
   "language": "python",
   "name": "capstoneenf"
  },
  "language_info": {
   "codemirror_mode": {
    "name": "ipython",
    "version": 3
   },
   "file_extension": ".py",
   "mimetype": "text/x-python",
   "name": "python",
   "nbconvert_exporter": "python",
   "pygments_lexer": "ipython3",
   "version": "3.8.3"
  }
 },
 "nbformat": 4,
 "nbformat_minor": 4
}
