{
 "cells": [
  {
   "cell_type": "code",
   "execution_count": 133,
   "metadata": {},
   "outputs": [],
   "source": [
    "import numpy as np # library to handle data in a vectorized manner\n",
    "import pandas as pd # library for data analsysis\n",
    "import requests # library to handle requests\n",
    "#import json # library to handle JSON files\n",
    "#from pandas.io.json import json_normalize # tranform JSON file into a pandas dataframe\n",
    "#from geopy.geocoders import Nominatim\n",
    "import geocoder"
   ]
  },
  {
   "cell_type": "code",
   "execution_count": 154,
   "metadata": {},
   "outputs": [
    {
     "name": "stdout",
     "output_type": "stream",
     "text": [
      "Lawrence Manor, North York, Toronto, Ontario, Canada, M6A\n",
      "[43.744423, -79.463984] [43.744423, -79.463984] [43.744423, -79.463984]\n"
     ]
    }
   ],
   "source": [
    "df_tpc=pd.read_csv('TNC_UnpackN.csv').drop('Unnamed: 0', axis=1)\n",
    "\n",
    "n=4\n",
    "address1=df_tpc['Neighbourhood'][n]+', '+df_tpc['Borough'][n]+', Toronto, Ontario, Canada'+', '+df_tpc['Postal Code'][n]\n",
    "address2=df_tpc['Neighbourhood'][n]+', '+df_tpc['Borough'][n]+', Ontario, Canada'+', '+df_tpc['Postal Code'][n]\n",
    "address3=df_tpc['Neighbourhood'][n]+', '+df_tpc['Borough'][n]+', Toronto, Ontario, Canada'[n]\n",
    "\n",
    "\n",
    "\n",
    "\n",
    "g = geocoder.locationiq(address1, key='0dd3eb043b17af')\n",
    "h = geocoder.locationiq(address2, key='0dd3eb043b17af')\n",
    "f = geocoder.locationiq(address3, key='0dd3eb043b17af')\n",
    "print(address1)\n",
    "print(g.latlng, g.latlng, g.latlng)\n",
    "\n"
   ]
  },
  {
   "cell_type": "code",
   "execution_count": 118,
   "metadata": {},
   "outputs": [],
   "source": [
    "#Parkwoods\t43.753259\t-79.329656"
   ]
  },
  {
   "cell_type": "markdown",
   "metadata": {},
   "source": [
    "\n",
    "Postal Code\tBorough\tNeighbourhood\tLatitude\tLongitude\n",
    "0\tM3A\tNorth York\tParkwoods\t43.753259\t-79.329656\n",
    "1\tM4A\tNorth York\tVictoria Village\t43.725882\t-79.315572\n",
    "2\tM5A\tDowntown Toronto\tRegent Park, Harbourfront\t43.654260\t-79.360636\n",
    "3\tM6A\tNorth York\tLawrence Manor, Lawrence Heights\t43.718518\t-79.464763\n",
    "4\tM7A\tDowntown Toronto\tQueen's Park, Ontario Provincial Government\t43.662301\t-79.389494"
   ]
  }
 ],
 "metadata": {
  "kernelspec": {
   "display_name": "Python (CapstoneENV)",
   "language": "python",
   "name": "capstoneenf"
  },
  "language_info": {
   "codemirror_mode": {
    "name": "ipython",
    "version": 3
   },
   "file_extension": ".py",
   "mimetype": "text/x-python",
   "name": "python",
   "nbconvert_exporter": "python",
   "pygments_lexer": "ipython3",
   "version": "3.8.3"
  }
 },
 "nbformat": 4,
 "nbformat_minor": 4
}
