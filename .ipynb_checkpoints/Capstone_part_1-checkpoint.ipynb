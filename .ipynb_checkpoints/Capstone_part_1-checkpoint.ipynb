{
 "cells": [
  {
   "cell_type": "markdown",
   "metadata": {},
   "source": [
    "# Capstone Project: Segmenting and Clustering Neighborhoods in Toronto"
   ]
  },
  {
   "cell_type": "markdown",
   "metadata": {},
   "source": [
    "## Part 1 - Data Sourcing / Processing"
   ]
  },
  {
   "cell_type": "markdown",
   "metadata": {},
   "source": [
    "### Elements required:\n",
    "1. [ ] Scrape Wiki page for data\n",
    "2. [ ] Convert data scrape into a DataFrame\n",
    "3. [ ] Generate final table for use in part 2 and save as CSV\n",
    "4. [ ] Print required values for review (DataFrame size/shape)"
   ]
  },
  {
   "cell_type": "markdown",
   "metadata": {},
   "source": [
    "---\n",
    "#### import required modules:"
   ]
  },
  {
   "cell_type": "code",
   "execution_count": 1,
   "metadata": {},
   "outputs": [],
   "source": [
    "import requests # URL handler\n",
    "import pandas as pd\n",
    "import numpy as np\n",
    "from bs4 import BeautifulSoup # HTMl Parser\n",
    "from itertools import chain # useful for exploding lists into dfs with repeated cells"
   ]
  },
  {
   "cell_type": "markdown",
   "metadata": {},
   "source": [
    "---"
   ]
  },
  {
   "cell_type": "markdown",
   "metadata": {},
   "source": [
    "1. [x] Scrape Wiki page for data\n",
    "2. [x] Convert data scrape into a DataFrame\n",
    "3. [ ] Generate final table for use in part 2 and save as CSV\n",
    "4. [ ] Print required values for review (DataFrame size/shape)\n",
    "   - Use Requests to manage URL call\n",
    "   - Use Beautiful Soup to extract the tables using html tags"
   ]
  },
  {
   "cell_type": "code",
   "execution_count": 2,
   "metadata": {},
   "outputs": [],
   "source": [
    "# use requests to handle the url and return the html file\n",
    "wikipage = requests.get('https://en.wikipedia.org/wiki/List_of_postal_codes_of_Canada:_M')\n",
    "\n",
    "# use beautiful soup to extract the table\n",
    "soup = BeautifulSoup(wikipage.text)\n",
    "soup_table = soup.find_all(\"table\")[0] # there is only 1 table so just take the first one\n",
    "\n",
    "n_columns = 0\n",
    "n_rows = 0\n",
    "column_names = []\n",
    "\n",
    "for row in soup_table.find_all('tr'):\n",
    "\n",
    "    td_tags = row.find_all('td')\n",
    "    if len(td_tags) > 0:\n",
    "        n_rows+=1\n",
    "        if n_columns == 0:\n",
    "            n_columns = len(td_tags)\n",
    "\n",
    "\n",
    "    th_tags = row.find_all('th') \n",
    "    if len(th_tags) > 0 and len(column_names) == 0:\n",
    "        for th in th_tags:\n",
    "            column_names.append(th.get_text().strip())\n",
    "\n",
    "columns = column_names if len(column_names) > 0 else range(0,n_columns)\n",
    "df = pd.DataFrame(columns = columns,\n",
    "                  index= range(0,n_rows))\n",
    "row_marker = 0\n",
    "for row in soup_table.find_all('tr'):\n",
    "    column_marker = 0\n",
    "    columns = row.find_all('td')\n",
    "    for column in columns:\n",
    "        df.iat[row_marker,column_marker] = column.get_text()\n",
    "        df.iat[row_marker,column_marker]=df.iat[row_marker,column_marker].strip()\n",
    "        column_marker += 1\n",
    "    if len(columns) > 0:\n",
    "        row_marker += 1"
   ]
  },
  {
   "cell_type": "markdown",
   "metadata": {},
   "source": [
    "---\n",
    "1. [x] Scrape Wiki page for data\n",
    "2. [x] Convert data scrape into a DataFrame\n",
    "3. [x] Generate final table for use in part 2 and save as CSV\n",
    "4. [ ] Print required values for review (DataFrame size/shape)\n",
    "   - Filter rows where no Borough has been provided"
   ]
  },
  {
   "cell_type": "code",
   "execution_count": 3,
   "metadata": {
    "scrolled": false
   },
   "outputs": [
    {
     "data": {
      "text/html": [
       "<div>\n",
       "<style scoped>\n",
       "    .dataframe tbody tr th:only-of-type {\n",
       "        vertical-align: middle;\n",
       "    }\n",
       "\n",
       "    .dataframe tbody tr th {\n",
       "        vertical-align: top;\n",
       "    }\n",
       "\n",
       "    .dataframe thead th {\n",
       "        text-align: right;\n",
       "    }\n",
       "</style>\n",
       "<table border=\"1\" class=\"dataframe\">\n",
       "  <thead>\n",
       "    <tr style=\"text-align: right;\">\n",
       "      <th></th>\n",
       "      <th>Postal Code</th>\n",
       "      <th>Borough</th>\n",
       "      <th>Neighbourhood</th>\n",
       "    </tr>\n",
       "  </thead>\n",
       "  <tbody>\n",
       "    <tr>\n",
       "      <th>0</th>\n",
       "      <td>M3A</td>\n",
       "      <td>North York</td>\n",
       "      <td>Parkwoods</td>\n",
       "    </tr>\n",
       "    <tr>\n",
       "      <th>1</th>\n",
       "      <td>M4A</td>\n",
       "      <td>North York</td>\n",
       "      <td>Victoria Village</td>\n",
       "    </tr>\n",
       "    <tr>\n",
       "      <th>2</th>\n",
       "      <td>M5A</td>\n",
       "      <td>Downtown Toronto</td>\n",
       "      <td>Regent Park, Harbourfront</td>\n",
       "    </tr>\n",
       "    <tr>\n",
       "      <th>3</th>\n",
       "      <td>M6A</td>\n",
       "      <td>North York</td>\n",
       "      <td>Lawrence Manor, Lawrence Heights</td>\n",
       "    </tr>\n",
       "    <tr>\n",
       "      <th>4</th>\n",
       "      <td>M7A</td>\n",
       "      <td>Downtown Toronto</td>\n",
       "      <td>Queen's Park, Ontario Provincial Government</td>\n",
       "    </tr>\n",
       "  </tbody>\n",
       "</table>\n",
       "</div>"
      ],
      "text/plain": [
       "  Postal Code           Borough                                Neighbourhood\n",
       "0         M3A        North York                                    Parkwoods\n",
       "1         M4A        North York                             Victoria Village\n",
       "2         M5A  Downtown Toronto                    Regent Park, Harbourfront\n",
       "3         M6A        North York             Lawrence Manor, Lawrence Heights\n",
       "4         M7A  Downtown Toronto  Queen's Park, Ontario Provincial Government"
      ]
     },
     "execution_count": 3,
     "metadata": {},
     "output_type": "execute_result"
    }
   ],
   "source": [
    "# stip out Boroughs with \"Not Assigned\" and reset index\n",
    "df_filtered = df[df['Borough']!=\"Not assigned\"]\n",
    "df_filtered.reset_index(drop=True, inplace=True)\n",
    "\n",
    "df_filtered.to_csv('Toronto_Neighborhoods_Cleaned.csv', sep = ',', header=df_filtered.columns)\n",
    "df_filtered.head()"
   ]
  },
  {
   "cell_type": "markdown",
   "metadata": {},
   "source": [
    "---\n",
    "**This is an additional table of unique neighbourhoods not requested in the instructions, you can ignore if you wish** - the wiki data was originally provided in this form i suspect then updated (hence the instructions provied don't match the wiki data). I may use this table later if I decide to use the list of neighbourhoods in a more granular way\n",
    "\n",
    "The below cell simply creates a DataFrame with the neighbourhoods as one per row then repeats the other columns where needed"
   ]
  },
  {
   "cell_type": "code",
   "execution_count": 4,
   "metadata": {},
   "outputs": [
    {
     "data": {
      "text/html": [
       "<div>\n",
       "<style scoped>\n",
       "    .dataframe tbody tr th:only-of-type {\n",
       "        vertical-align: middle;\n",
       "    }\n",
       "\n",
       "    .dataframe tbody tr th {\n",
       "        vertical-align: top;\n",
       "    }\n",
       "\n",
       "    .dataframe thead th {\n",
       "        text-align: right;\n",
       "    }\n",
       "</style>\n",
       "<table border=\"1\" class=\"dataframe\">\n",
       "  <thead>\n",
       "    <tr style=\"text-align: right;\">\n",
       "      <th></th>\n",
       "      <th>Postal Code</th>\n",
       "      <th>Borough</th>\n",
       "      <th>Neighbourhood</th>\n",
       "    </tr>\n",
       "  </thead>\n",
       "  <tbody>\n",
       "    <tr>\n",
       "      <th>0</th>\n",
       "      <td>M3A</td>\n",
       "      <td>North York</td>\n",
       "      <td>Parkwoods</td>\n",
       "    </tr>\n",
       "    <tr>\n",
       "      <th>1</th>\n",
       "      <td>M4A</td>\n",
       "      <td>North York</td>\n",
       "      <td>Victoria Village</td>\n",
       "    </tr>\n",
       "    <tr>\n",
       "      <th>2</th>\n",
       "      <td>M5A</td>\n",
       "      <td>Downtown Toronto</td>\n",
       "      <td>Regent Park</td>\n",
       "    </tr>\n",
       "    <tr>\n",
       "      <th>2</th>\n",
       "      <td>M5A</td>\n",
       "      <td>Downtown Toronto</td>\n",
       "      <td>Harbourfront</td>\n",
       "    </tr>\n",
       "    <tr>\n",
       "      <th>3</th>\n",
       "      <td>M6A</td>\n",
       "      <td>North York</td>\n",
       "      <td>Lawrence Manor</td>\n",
       "    </tr>\n",
       "  </tbody>\n",
       "</table>\n",
       "</div>"
      ],
      "text/plain": [
       "  Postal Code           Borough     Neighbourhood\n",
       "0         M3A        North York         Parkwoods\n",
       "1         M4A        North York  Victoria Village\n",
       "2         M5A  Downtown Toronto       Regent Park\n",
       "2         M5A  Downtown Toronto      Harbourfront\n",
       "3         M6A        North York    Lawrence Manor"
      ]
     },
     "execution_count": 4,
     "metadata": {},
     "output_type": "execute_result"
    }
   ],
   "source": [
    "def chainer(s):\n",
    "    return list(chain.from_iterable(s.str.split(',')))\n",
    "\n",
    "# calculate lengths of splits\n",
    "lens = df_filtered['Neighbourhood'].str.split(',').map(len)\n",
    "\n",
    "# create new dataframe, repeating or chaining as appropriate - df_filtered_complete\n",
    "df_filtered_UnpackN = pd.DataFrame({'Postal Code': np.repeat(df_filtered['Postal Code'].str.strip(), lens),\n",
    "                    'Borough': np.repeat(df_filtered['Borough'].str.strip(), lens),\n",
    "                    'Neighbourhood': chainer(df_filtered['Neighbourhood'].str.strip())})\n",
    "df_filtered_UnpackN.to_csv('TNC_UnpackN.csv', sep = ',',\n",
    "                           header=df_filtered_UnpackN.columns)\n",
    "df_filtered_UnpackN.head()"
   ]
  },
  {
   "cell_type": "markdown",
   "metadata": {},
   "source": [
    "---\n",
    "1. [x] Scrape Wiki page for data\n",
    "2. [x] Convert data scrape into a DataFrame\n",
    "3. [x] Generate final table for use in part 2 and save as CSV\n",
    "4. [X] Print required values for review (DataFrame size/shape)\n",
    "\n",
    "**NOTE -**\n",
    "I've used a different DataFrame to count the neighbourhoods, depending on how the question is asked regarding the \"size of the resulting DataFrame\" you could use any of the three numbers. In the format currently on the Wiki you should get 103 rows defined by the number of Post Codes, if you itemise the Neighbourhoods then you would have 217. Since the data has changed I believe the question was originally designed to check if you properly combined the rows per Postal Code and ended up with one row per Postal Code with multiple, comma separated, neighbourhoods (103 below)."
   ]
  },
  {
   "cell_type": "code",
   "execution_count": 5,
   "metadata": {},
   "outputs": [
    {
     "name": "stdout",
     "output_type": "stream",
     "text": [
      "\n",
      "The dataframe has 10 Boroughs with 103 Postal Codes covering 217 Neighborhoods.\n"
     ]
    }
   ],
   "source": [
    "print('\\nThe dataframe has {} Boroughs with {} Postal Codes covering {} Neighborhoods.'.format(len(df_filtered['Borough'].unique()),\n",
    "                                                                                               len(df_filtered['Postal Code'].unique()),\n",
    "                                                                                               df_filtered_UnpackN.shape[0]))\n"
   ]
  }
 ],
 "metadata": {
  "kernelspec": {
   "display_name": "Python 3",
   "language": "python",
   "name": "python3"
  },
  "language_info": {
   "codemirror_mode": {
    "name": "ipython",
    "version": 3
   },
   "file_extension": ".py",
   "mimetype": "text/x-python",
   "name": "python",
   "nbconvert_exporter": "python",
   "pygments_lexer": "ipython3",
   "version": "3.6.8"
  }
 },
 "nbformat": 4,
 "nbformat_minor": 2
}
