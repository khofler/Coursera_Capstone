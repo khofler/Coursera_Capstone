{
 "cells": [
  {
   "cell_type": "markdown",
   "metadata": {},
   "source": [
    "# Capstone Project - Part 1: Data sourcing and processing\n",
    "## Peer-graded Assignment: Segmenting and Clustering Neighborhoods in Toronto"
   ]
  },
  {
   "cell_type": "markdown",
   "metadata": {},
   "source": [
    "### Part 1 will source and process the data then export to CSV to be used in Part 2. This is being done becuase of the upload requirements for the project grading (must be uploaded in three parts)"
   ]
  },
  {
   "cell_type": "code",
   "execution_count": 1,
   "metadata": {},
   "outputs": [],
   "source": [
    "import requests # URL handler\n",
    "import pandas as pd\n",
    "import numpy as np\n",
    "from bs4 import BeautifulSoup # HTMl Parser\n",
    "from tabulate import tabulate # nice way to view larger DFs\n",
    "from itertools import chain"
   ]
  },
  {
   "cell_type": "code",
   "execution_count": 2,
   "metadata": {
    "scrolled": true
   },
   "outputs": [
    {
     "name": "stdout",
     "output_type": "stream",
     "text": [
      "    Postal Code    Borough           Neighbourhood\n",
      "--  -------------  ----------------  -----------------------------\n",
      " 0  M3A            North York        Parkwoods\n",
      " 1  M4A            North York        Victoria Village\n",
      " 2  M5A            Downtown Toronto  Regent Park\n",
      " 2  M5A            Downtown Toronto  Harbourfront\n",
      " 3  M6A            North York        Lawrence Manor\n",
      " 3  M6A            North York        Lawrence Heights\n",
      " 4  M7A            Downtown Toronto  Queen's Park\n",
      " 4  M7A            Downtown Toronto  Ontario Provincial Government\n",
      " 5  M9A            Etobicoke         Islington Avenue\n",
      " 5  M9A            Etobicoke         Humber Valley Village\n",
      " 6  M1B            Scarborough       Malvern\n",
      " 6  M1B            Scarborough       Rouge\n",
      " 7  M3B            North York        Don Mills\n",
      " 8  M4B            East York         Parkview Hill\n",
      " 8  M4B            East York         Woodbine Gardens\n",
      " 9  M5B            Downtown Toronto  Garden District\n",
      " 9  M5B            Downtown Toronto  Ryerson\n",
      "10  M6B            North York        Glencairn\n",
      "11  M9B            Etobicoke         West Deane Park\n",
      "11  M9B            Etobicoke         Princess Gardens\n"
     ]
    }
   ],
   "source": [
    "# load the URL, scrape the data and pass into a  datafram\n",
    "wikipage = requests.get('https://en.wikipedia.org/wiki/List_of_postal_codes_of_Canada:_M')\n",
    "soup = BeautifulSoup(wikipage.text)\n",
    "soup_table = soup.find_all(\"table\")[0] # there is only 1 table so just take the first one\n",
    "\n",
    "n_columns = 0\n",
    "n_rows = 0\n",
    "column_names = []\n",
    "\n",
    "# use \"soup\" tags to retrieve the table data and construct data frame\n",
    "for row in soup_table.find_all('tr'):\n",
    "\n",
    "    td_tags = row.find_all('td')\n",
    "    if len(td_tags) > 0:\n",
    "        n_rows+=1\n",
    "        if n_columns == 0:\n",
    "            n_columns = len(td_tags)\n",
    "\n",
    "\n",
    "    th_tags = row.find_all('th') \n",
    "    if len(th_tags) > 0 and len(column_names) == 0:\n",
    "        for th in th_tags:\n",
    "            column_names.append(th.get_text().strip())\n",
    "\n",
    "columns = column_names if len(column_names) > 0 else range(0,n_columns)\n",
    "df = pd.DataFrame(columns = columns,\n",
    "                  index= range(0,n_rows))\n",
    "row_marker = 0\n",
    "for row in soup_table.find_all('tr'):\n",
    "    column_marker = 0\n",
    "    columns = row.find_all('td')\n",
    "    for column in columns:\n",
    "        df.iat[row_marker,column_marker] = column.get_text().strip()\n",
    "        column_marker += 1\n",
    "    if len(columns) > 0:\n",
    "        row_marker += 1\n",
    "\n",
    "# stip out Boroughs with \"Not Assigned\" and reset index\n",
    "df_filtered = df[df['Borough']!=\"Not assigned\"]\n",
    "df_filtered.reset_index(drop=True, inplace=True)\n",
    "\n",
    "# return list from series of comma-separated strings\n",
    "def chainer(s):\n",
    "    return list(chain.from_iterable(s.str.split(',')))\n",
    "\n",
    "# calculate lengths of splits\n",
    "lens = df_filtered['Neighbourhood'].str.split(',').map(len)\n",
    "\n",
    "# create new dataframe, repeating or chaining as appropriate - df_filtered_complete\n",
    "df_fc = pd.DataFrame({'Postal Code': np.repeat(df_filtered['Postal Code'], lens),\n",
    "                    'Borough': np.repeat(df_filtered['Borough'], lens),\n",
    "                    'Neighbourhood': chainer(df_filtered['Neighbourhood'])})\n",
    "\n",
    "\n",
    "# final result is a table with 1 neighborbood per row, excluding those with no borough\n",
    "print(tabulate(df_fc.head(20), headers=df_fc.columns))"
   ]
  },
  {
   "cell_type": "code",
   "execution_count": 3,
   "metadata": {},
   "outputs": [],
   "source": [
    "df_fc.to_csv('Toronto_Neiborhoods_Cleaned', sep = ',', header=df_fc.columns)"
   ]
  }
 ],
 "metadata": {
  "kernelspec": {
   "display_name": "Python (CapstoneENV)",
   "language": "python",
   "name": "capstoneenf"
  },
  "language_info": {
   "codemirror_mode": {
    "name": "ipython",
    "version": 3
   },
   "file_extension": ".py",
   "mimetype": "text/x-python",
   "name": "python",
   "nbconvert_exporter": "python",
   "pygments_lexer": "ipython3",
   "version": "3.8.3"
  }
 },
 "nbformat": 4,
 "nbformat_minor": 2
}
