{
 "cells": [
  {
   "cell_type": "code",
   "execution_count": 1,
   "metadata": {},
   "outputs": [],
   "source": [
    "import pandas as pd"
   ]
  },
  {
   "cell_type": "code",
   "execution_count": 180,
   "metadata": {},
   "outputs": [
    {
     "data": {
      "text/html": [
       "<div>\n",
       "<style scoped>\n",
       "    .dataframe tbody tr th:only-of-type {\n",
       "        vertical-align: middle;\n",
       "    }\n",
       "\n",
       "    .dataframe tbody tr th {\n",
       "        vertical-align: top;\n",
       "    }\n",
       "\n",
       "    .dataframe thead th {\n",
       "        text-align: right;\n",
       "    }\n",
       "</style>\n",
       "<table border=\"1\" class=\"dataframe\">\n",
       "  <thead>\n",
       "    <tr style=\"text-align: right;\">\n",
       "      <th></th>\n",
       "      <th>Borough</th>\n",
       "      <th>Postal Code</th>\n",
       "      <th>Neighbourhood</th>\n",
       "    </tr>\n",
       "  </thead>\n",
       "  <tbody>\n",
       "    <tr>\n",
       "      <th>0</th>\n",
       "      <td>North York</td>\n",
       "      <td>M3A</td>\n",
       "      <td>Parkwoods</td>\n",
       "    </tr>\n",
       "    <tr>\n",
       "      <th>1</th>\n",
       "      <td>North York</td>\n",
       "      <td>M4A</td>\n",
       "      <td>Victoria Village</td>\n",
       "    </tr>\n",
       "    <tr>\n",
       "      <th>2</th>\n",
       "      <td>Downtown Toronto</td>\n",
       "      <td>M5A</td>\n",
       "      <td>Regent Park, Harbourfront</td>\n",
       "    </tr>\n",
       "    <tr>\n",
       "      <th>3</th>\n",
       "      <td>North York</td>\n",
       "      <td>M6A</td>\n",
       "      <td>Lawrence Manor, Lawrence Heights</td>\n",
       "    </tr>\n",
       "    <tr>\n",
       "      <th>4</th>\n",
       "      <td>Downtown Toronto</td>\n",
       "      <td>M7A</td>\n",
       "      <td>Queen's Park, Ontario Provincial Government</td>\n",
       "    </tr>\n",
       "  </tbody>\n",
       "</table>\n",
       "</div>"
      ],
      "text/plain": [
       "            Borough Postal Code                                Neighbourhood\n",
       "0        North York         M3A                                    Parkwoods\n",
       "1        North York         M4A                             Victoria Village\n",
       "2  Downtown Toronto         M5A                    Regent Park, Harbourfront\n",
       "3        North York         M6A             Lawrence Manor, Lawrence Heights\n",
       "4  Downtown Toronto         M7A  Queen's Park, Ontario Provincial Government"
      ]
     },
     "execution_count": 180,
     "metadata": {},
     "output_type": "execute_result"
    }
   ],
   "source": [
    "df_tpc=pd.read_csv('Toronto_Neighborhoods_Cleaned.csv').drop('Unnamed: 0', axis=1)\n",
    "df_pc=pd.DataFrame(df_tpc['Postal Code'].unique(), columns=['Postal Code'])\n",
    "df=pd.DataFrame(columns=['Borough', 'Postal Code', 'Neighbourhood'])\n",
    "\n",
    "for n in range(0, df_pc.shape[0]):\n",
    "\n",
    "    temp=df_tpc.loc[df_tpc['Postal Code'] == str(df_pc.iloc[n,0]), ['Borough', 'Neighbourhood']]\n",
    "\n",
    "    for l in range(0, temp.shape[0]):\n",
    "        if l == 0:\n",
    "            str_n = temp.iloc[l, 1].strip()\n",
    "        else:\n",
    "            str_n = str_n + ', ' + temp.iloc[l,1].strip()\n",
    "\n",
    "    df.loc[n]=[temp.iloc[0,0], str(df_pc.iloc[n,0]), str_n]\n",
    "df.head()"
   ]
  },
  {
   "cell_type": "code",
   "execution_count": null,
   "metadata": {},
   "outputs": [],
   "source": [
    "# return list from series of comma-separated strings\n",
    "def chainer(s):\n",
    "    return list(chain.from_iterable(s.str.split(',')))\n",
    "\n",
    "# calculate lengths of splits\n",
    "lens = df_filtered['Neighbourhood'].str.split(',').map(len)\n",
    "\n",
    "# create new dataframe, repeating or chaining as appropriate - df_filtered_complete\n",
    "df_filtered_UnpackN = pd.DataFrame({'Postal Code': np.repeat(df_filtered['Postal Code'].str.strip(), lens),\n",
    "                    'Borough': np.repeat(df_filtered['Borough'].str.strip(), lens),\n",
    "                    'Neighbourhood': chainer(df_filtered['Neighbourhood'].str.strip())})\n",
    "\n",
    "df_pc=pd.DataFrame(df_fc['Postal Code'].unique(), columns=['Postal Code'])\n",
    "df_T=pd.DataFrame(columns=['Borough', 'Postal Code', 'Neighbourhood'])\n",
    "\n",
    "for n in range(0, df_pc.shape[0]):\n",
    "\n",
    "    cur_pc = str(df_pc.iloc[n,0])\n",
    "    temp=df_fc.loc[df_fc['Postal Code'] == cur_pc, ['Borough', 'Neighbourhood']]\n",
    "    cur_b = str(temp.iloc[0,0])\n",
    "\n",
    "    for l in range(0, temp.shape[0]):\n",
    "        if l == 0:\n",
    "            str_n = temp.iloc[l, 1].strip()\n",
    "        else:\n",
    "            str_n = str_n + ', ' + temp.iloc[l,1].strip()\n",
    "\n",
    "    df_T.loc[n]=[cur_b, cur_pc, str_n]"
   ]
  }
 ],
 "metadata": {
  "kernelspec": {
   "display_name": "Python (CapstoneENV)",
   "language": "python",
   "name": "capstoneenf"
  },
  "language_info": {
   "codemirror_mode": {
    "name": "ipython",
    "version": 3
   },
   "file_extension": ".py",
   "mimetype": "text/x-python",
   "name": "python",
   "nbconvert_exporter": "python",
   "pygments_lexer": "ipython3",
   "version": "3.8.3"
  }
 },
 "nbformat": 4,
 "nbformat_minor": 4
}
