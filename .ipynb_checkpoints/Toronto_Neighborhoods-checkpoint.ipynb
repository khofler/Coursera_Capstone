{
 "cells": [
  {
   "cell_type": "markdown",
   "metadata": {},
   "source": [
    "# Capstone Project - Learning Labs\n",
    "## Peer-graded Assignment: Segmenting and Clustering Neighborhoods in Toronto"
   ]
  },
  {
   "cell_type": "markdown",
   "metadata": {},
   "source": [
    "### Part 1: Data sourcing and processing"
   ]
  },
  {
   "cell_type": "code",
   "execution_count": 25,
   "metadata": {},
   "outputs": [],
   "source": [
    "import requests # URL handler\n",
    "import pandas as pd\n",
    "from bs4 import BeautifulSoup # HTMl Parser\n",
    "from tabulate import tabulate # nice way to view larger DFs"
   ]
  },
  {
   "cell_type": "code",
   "execution_count": 30,
   "metadata": {},
   "outputs": [
    {
     "name": "stdout",
     "output_type": "stream",
     "text": [
      "    Postal Code    Borough           Neighbourhood\n",
      "--  -------------  ----------------  ----------------------------------------------------------------------\n",
      " 0  M3A            North York        Parkwoods\n",
      " 1  M4A            North York        Victoria Village\n",
      " 2  M5A            Downtown Toronto  Regent Park, Harbourfront\n",
      " 3  M6A            North York        Lawrence Manor, Lawrence Heights\n",
      " 4  M7A            Downtown Toronto  Queen's Park, Ontario Provincial Government\n",
      " 5  M9A            Etobicoke         Islington Avenue, Humber Valley Village\n",
      " 6  M1B            Scarborough       Malvern, Rouge\n",
      " 7  M3B            North York        Don Mills\n",
      " 8  M4B            East York         Parkview Hill, Woodbine Gardens\n",
      " 9  M5B            Downtown Toronto  Garden District, Ryerson\n",
      "10  M6B            North York        Glencairn\n",
      "11  M9B            Etobicoke         West Deane Park, Princess Gardens, Martin Grove, Islington, Cloverdale\n",
      "12  M1C            Scarborough       Rouge Hill, Port Union, Highland Creek\n",
      "13  M3C            North York        Don Mills\n",
      "14  M4C            East York         Woodbine Heights\n",
      "15  M5C            Downtown Toronto  St. James Town\n",
      "16  M6C            York              Humewood-Cedarvale\n",
      "17  M9C            Etobicoke         Eringate, Bloordale Gardens, Old Burnhamthorpe, Markland Wood\n",
      "18  M1E            Scarborough       Guildwood, Morningside, West Hill\n",
      "19  M4E            East Toronto      The Beaches\n"
     ]
    }
   ],
   "source": [
    "# load the URL, scrape the data and pass into a  datafram\n",
    "wikipage = requests.get('https://en.wikipedia.org/wiki/List_of_postal_codes_of_Canada:_M')\n",
    "soup = BeautifulSoup(wikipage.text)\n",
    "soup_table = soup.find_all(\"table\")[0] # there is only 1 table so just take the first one\n",
    "\n",
    "n_columns = 0\n",
    "n_rows = 0\n",
    "column_names = []\n",
    "\n",
    "# use \"soup\" tags to retrieve the table data and construct data frame\n",
    "for row in soup_table.find_all('tr'):\n",
    "\n",
    "    td_tags = row.find_all('td')\n",
    "    if len(td_tags) > 0:\n",
    "        n_rows+=1\n",
    "        if n_columns == 0:\n",
    "            n_columns = len(td_tags)\n",
    "\n",
    "\n",
    "    th_tags = row.find_all('th') \n",
    "    if len(th_tags) > 0 and len(column_names) == 0:\n",
    "        for th in th_tags:\n",
    "            column_names.append(th.get_text().strip())\n",
    "\n",
    "columns = column_names if len(column_names) > 0 else range(0,n_columns)\n",
    "df = pd.DataFrame(columns = columns,\n",
    "                  index= range(0,n_rows))\n",
    "row_marker = 0\n",
    "for row in soup_table.find_all('tr'):\n",
    "    column_marker = 0\n",
    "    columns = row.find_all('td')\n",
    "    for column in columns:\n",
    "        df.iat[row_marker,column_marker] = column.get_text().strip()\n",
    "        column_marker += 1\n",
    "    if len(columns) > 0:\n",
    "        row_marker += 1\n",
    "\n",
    "# stip out Boroughs with \"Not Assigned\" and reset index\n",
    "df_filtered = df[df['Borough']!=\"Not assigned\"]\n",
    "df_filtered.reset_index(drop=True, inplace=True)\n",
    "\n",
    "#display table\n",
    "print(tabulate(df_filtered.head(20), headers=df_filtered.columns))\n"
   ]
  },
  {
   "cell_type": "code",
   "execution_count": null,
   "metadata": {},
   "outputs": [],
   "source": []
  }
 ],
 "metadata": {
  "kernelspec": {
   "display_name": "Python (CapstoneENV)",
   "language": "python",
   "name": "capstoneenf"
  },
  "language_info": {
   "codemirror_mode": {
    "name": "ipython",
    "version": 3
   },
   "file_extension": ".py",
   "mimetype": "text/x-python",
   "name": "python",
   "nbconvert_exporter": "python",
   "pygments_lexer": "ipython3",
   "version": "3.8.3"
  }
 },
 "nbformat": 4,
 "nbformat_minor": 2
}
