{
 "cells": [
  {
   "cell_type": "markdown",
   "metadata": {},
   "source": [
    "# Capstone Project - Learning Labs\n",
    "## Peer-graded Assignment: Segmenting and Clustering Neighborhoods in Toronto"
   ]
  },
  {
   "cell_type": "markdown",
   "metadata": {},
   "source": [
    "### Part 1: Data sourcing and processing"
   ]
  },
  {
   "cell_type": "code",
   "execution_count": 173,
   "metadata": {},
   "outputs": [
    {
     "name": "stdout",
     "output_type": "stream",
     "text": [
      "0    object\n",
      "dtype: object\n",
      "Postal Code      object\n",
      "Borough          object\n",
      "Neighbourhood    object\n",
      "dtype: object\n"
     ]
    }
   ],
   "source": [
    "import requests # URL handler\n",
    "import pandas as pd\n",
    "from bs4 import BeautifulSoup # HTMl Parser\n",
    "\n",
    "# load the URL, scrape the data and pass into a  datafram\n",
    "\n",
    "wikipage = requests.get('https://en.wikipedia.org/wiki/List_of_postal_codes_of_Canada:_M')\n",
    "soup = BeautifulSoup(wikipage.text)\n",
    "soup_table = soup.find_all(\"table\")[0]\n",
    "\n",
    "n_columns = 0\n",
    "n_rows=0\n",
    "column_names = []\n",
    "\n",
    "for row in soup_table.find_all('tr'):\n",
    "\n",
    "    td_tags = row.find_all('td')\n",
    "    if len(td_tags) > 0:\n",
    "        n_rows+=1\n",
    "        if n_columns == 0:\n",
    "            n_columns = len(td_tags)\n",
    "\n",
    "\n",
    "    th_tags = row.find_all('th') \n",
    "    if len(th_tags) > 0 and len(column_names) == 0:\n",
    "        for th in th_tags:\n",
    "            column_names.append(th.get_text().strip())\n",
    "\n",
    "columns = column_names if len(column_names) > 0 else range(0,n_columns)\n",
    "df = pd.DataFrame(columns = columns,\n",
    "                  index= range(0,n_rows))\n",
    "row_marker = 0\n",
    "for row in soup_table.find_all('tr'):\n",
    "    column_marker = 0\n",
    "    columns = row.find_all('td')\n",
    "    for column in columns:\n",
    "        df.iat[row_marker,column_marker] = column.get_text().strip()\n",
    "        column_marker += 1\n",
    "    if len(columns) > 0:\n",
    "        row_marker += 1\n",
    "\n",
    "# stip out Boroughs with \"Not Assigned\"\n",
    "\n",
    "df_filtered = df[df['Borough']!=\"Not assigned\"]\n",
    "df_PC=pd.DataFrame(df_filtered['Postal Code'].unique())\n",
    "\n",
    "print(df_PC.dtypes)\n",
    "print(df_filtered.dtypes)\n",
    "\n",
    "#inner_join = pd.merge(df_PC,  \n",
    "#                      df_filtered,  \n",
    "#                      on ='Postal Code',  \n",
    "#                      how ='inner') \n",
    "#inner_join "
   ]
  },
  {
   "cell_type": "code",
   "execution_count": null,
   "metadata": {},
   "outputs": [],
   "source": []
  }
 ],
 "metadata": {
  "kernelspec": {
   "display_name": "Python 3",
   "language": "python",
   "name": "python3"
  },
  "language_info": {
   "codemirror_mode": {
    "name": "ipython",
    "version": 3
   },
   "file_extension": ".py",
   "mimetype": "text/x-python",
   "name": "python",
   "nbconvert_exporter": "python",
   "pygments_lexer": "ipython3",
   "version": "3.6.8"
  }
 },
 "nbformat": 4,
 "nbformat_minor": 2
}
